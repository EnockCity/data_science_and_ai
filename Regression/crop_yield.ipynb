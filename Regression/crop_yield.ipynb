{
 "cells": [
  {
   "cell_type": "markdown",
   "metadata": {},
   "source": [
    "Analyzing the Relationship Between Temperature and Crop Yield Using the Crop Yield Dataset"
   ]
  },
  {
   "cell_type": "code",
   "execution_count": 67,
   "metadata": {},
   "outputs": [],
   "source": [
    "# import libraries\n",
    "import numpy as np\n",
    "import pandas as pd\n",
    "import matplotlib.pyplot as plt\n",
    "import seaborn as sns\n",
    "from sklearn.linear_model import LinearRegression\n",
    "from sklearn.model_selection import train_test_split\n",
    "from sklearn.metrics import mean_squared_error, r2_score"
   ]
  },
  {
   "cell_type": "code",
   "execution_count": 68,
   "metadata": {},
   "outputs": [],
   "source": [
    "# Load dataset\n",
    "df= pd.read_csv(\"https://raw.githubusercontent.com/Explore-AI/Public-Data/master/Data/Python/crop_yield_dataset.csv\")"
   ]
  },
  {
   "cell_type": "code",
   "execution_count": 69,
   "metadata": {},
   "outputs": [
    {
     "data": {
      "text/html": [
       "<div>\n",
       "<style scoped>\n",
       "    .dataframe tbody tr th:only-of-type {\n",
       "        vertical-align: middle;\n",
       "    }\n",
       "\n",
       "    .dataframe tbody tr th {\n",
       "        vertical-align: top;\n",
       "    }\n",
       "\n",
       "    .dataframe thead th {\n",
       "        text-align: right;\n",
       "    }\n",
       "</style>\n",
       "<table border=\"1\" class=\"dataframe\">\n",
       "  <thead>\n",
       "    <tr style=\"text-align: right;\">\n",
       "      <th></th>\n",
       "      <th>Temperature</th>\n",
       "      <th>Crop_Yield</th>\n",
       "    </tr>\n",
       "  </thead>\n",
       "  <tbody>\n",
       "    <tr>\n",
       "      <th>0</th>\n",
       "      <td>27.483571</td>\n",
       "      <td>58.922301</td>\n",
       "    </tr>\n",
       "    <tr>\n",
       "      <th>1</th>\n",
       "      <td>24.308678</td>\n",
       "      <td>44.070420</td>\n",
       "    </tr>\n",
       "    <tr>\n",
       "      <th>2</th>\n",
       "      <td>28.238443</td>\n",
       "      <td>63.490857</td>\n",
       "    </tr>\n",
       "    <tr>\n",
       "      <th>3</th>\n",
       "      <td>32.615149</td>\n",
       "      <td>58.221043</td>\n",
       "    </tr>\n",
       "    <tr>\n",
       "      <th>4</th>\n",
       "      <td>23.829233</td>\n",
       "      <td>50.592752</td>\n",
       "    </tr>\n",
       "  </tbody>\n",
       "</table>\n",
       "</div>"
      ],
      "text/plain": [
       "   Temperature  Crop_Yield\n",
       "0    27.483571   58.922301\n",
       "1    24.308678   44.070420\n",
       "2    28.238443   63.490857\n",
       "3    32.615149   58.221043\n",
       "4    23.829233   50.592752"
      ]
     },
     "execution_count": 69,
     "metadata": {},
     "output_type": "execute_result"
    }
   ],
   "source": [
    "df.head()"
   ]
  },
  {
   "cell_type": "code",
   "execution_count": 70,
   "metadata": {},
   "outputs": [
    {
     "data": {
      "text/plain": [
       "Temperature    0\n",
       "Crop_Yield     0\n",
       "dtype: int64"
      ]
     },
     "execution_count": 70,
     "metadata": {},
     "output_type": "execute_result"
    }
   ],
   "source": [
    "# Check for null values\n",
    "df.isnull().sum()"
   ]
  },
  {
   "cell_type": "code",
   "execution_count": 71,
   "metadata": {},
   "outputs": [
    {
     "data": {
      "text/html": [
       "<div>\n",
       "<style scoped>\n",
       "    .dataframe tbody tr th:only-of-type {\n",
       "        vertical-align: middle;\n",
       "    }\n",
       "\n",
       "    .dataframe tbody tr th {\n",
       "        vertical-align: top;\n",
       "    }\n",
       "\n",
       "    .dataframe thead th {\n",
       "        text-align: right;\n",
       "    }\n",
       "</style>\n",
       "<table border=\"1\" class=\"dataframe\">\n",
       "  <thead>\n",
       "    <tr style=\"text-align: right;\">\n",
       "      <th></th>\n",
       "      <th>count</th>\n",
       "      <th>mean</th>\n",
       "      <th>std</th>\n",
       "      <th>min</th>\n",
       "      <th>25%</th>\n",
       "      <th>50%</th>\n",
       "      <th>75%</th>\n",
       "      <th>max</th>\n",
       "    </tr>\n",
       "  </thead>\n",
       "  <tbody>\n",
       "    <tr>\n",
       "      <th>Temperature</th>\n",
       "      <td>120.0</td>\n",
       "      <td>24.604155</td>\n",
       "      <td>4.626583</td>\n",
       "      <td>11.901274</td>\n",
       "      <td>22.140623</td>\n",
       "      <td>24.633860</td>\n",
       "      <td>26.913931</td>\n",
       "      <td>37.316211</td>\n",
       "    </tr>\n",
       "    <tr>\n",
       "      <th>Crop_Yield</th>\n",
       "      <td>120.0</td>\n",
       "      <td>49.580131</td>\n",
       "      <td>10.975299</td>\n",
       "      <td>24.409459</td>\n",
       "      <td>42.875481</td>\n",
       "      <td>49.548066</td>\n",
       "      <td>56.533272</td>\n",
       "      <td>74.396332</td>\n",
       "    </tr>\n",
       "  </tbody>\n",
       "</table>\n",
       "</div>"
      ],
      "text/plain": [
       "             count       mean        std        min        25%        50%  \\\n",
       "Temperature  120.0  24.604155   4.626583  11.901274  22.140623  24.633860   \n",
       "Crop_Yield   120.0  49.580131  10.975299  24.409459  42.875481  49.548066   \n",
       "\n",
       "                   75%        max  \n",
       "Temperature  26.913931  37.316211  \n",
       "Crop_Yield   56.533272  74.396332  "
      ]
     },
     "execution_count": 71,
     "metadata": {},
     "output_type": "execute_result"
    }
   ],
   "source": [
    "# summary statistics\n",
    "df.describe().T"
   ]
  },
  {
   "cell_type": "code",
   "execution_count": 72,
   "metadata": {},
   "outputs": [],
   "source": [
    "# split data into features and target variable\n",
    "X = df[['Temperature']]\n",
    "y = df['Crop_Yield']"
   ]
  },
  {
   "cell_type": "code",
   "execution_count": 73,
   "metadata": {},
   "outputs": [],
   "source": [
    "# split data into training and test sets\n",
    "X_train, X_test, y_train, y_test = train_test_split(X, y, test_size=0.2, random_state=42)"
   ]
  },
  {
   "cell_type": "code",
   "execution_count": 74,
   "metadata": {},
   "outputs": [],
   "source": [
    "def train_linear_regression(X_train, y_train):\n",
    "    \"\"\"\n",
    "    This function trains a linear regression model on the training data\n",
    "    and returns the model\n",
    "    \"\"\"\n",
    "    # Create a linear regression model\n",
    "    model = LinearRegression()\n",
    "    \n",
    "    # Fit the model to the training data\n",
    "    model.fit(X_train, y_train)\n",
    "    \n",
    "    return model"
   ]
  },
  {
   "cell_type": "code",
   "execution_count": 75,
   "metadata": {},
   "outputs": [],
   "source": [
    "def evaluate_model_on_train(model, X_train, y_train):\n",
    "    \"\"\"\n",
    "    Evaluates the performance of the trained linear regression model on the training set.\n",
    "    \"\"\"\n",
    "    # Generate predictions on the training set\n",
    "    y_train_pred = model.predict(X_train)\n",
    "\n",
    "    # Calculate the Mean Squared Error (MSE)\n",
    "    train_mse = mean_squared_error(y_train, y_train_pred)\n",
    "\n",
    "    # Calculate the R-squared\n",
    "    train_r2 = r2_score(y_train, y_train_pred)\n",
    "\n",
    "    # Print the training MSE and R-squared score\n",
    "    print(\"Training MSE:\", train_mse)\n",
    "    print(\"Training R-squared:\", train_r2)\n",
    "\n"
   ]
  },
  {
   "cell_type": "code",
   "execution_count": 76,
   "metadata": {},
   "outputs": [],
   "source": [
    "def evaluate_model_on_test(model, X_test, y_test):\n",
    "    \"\"\"\n",
    "    Evaluates the performance of the trained linear regression model on the testing set.\n",
    "    \"\"\"\n",
    "    # Generate predictions on the testing set\n",
    "    y_test_pred = model.predict(X_test)\n",
    "\n",
    "    # Calculate the Mean Squared Error (MSE)\n",
    "    test_mse = mean_squared_error(y_test, y_test_pred)\n",
    "\n",
    "    # Calculate the R-squared\n",
    "    test_r2 = r2_score(y_test, y_test_pred)\n",
    "\n",
    "    # Print the testing MSE and R-squared score\n",
    "    print(\"Testing MSE:\", test_mse)\n",
    "    print(\"Testing R-squared:\", test_r2)\n",
    "\n",
    "\n"
   ]
  },
  {
   "cell_type": "code",
   "execution_count": 77,
   "metadata": {},
   "outputs": [],
   "source": [
    "# Prediction Function \n",
    "def predict(model, X_test):\n",
    "    y_pred = model.predict(X_test)\n",
    "    results = pd.DataFrame({'Actual': y_test, 'Predicted': y_pred})\n",
    "    print(results)\n",
    "    return y_pred"
   ]
  },
  {
   "cell_type": "code",
   "execution_count": 78,
   "metadata": {},
   "outputs": [
    {
     "name": "stdout",
     "output_type": "stream",
     "text": [
      "Training MSE: 22.152323850480098\n",
      "Training R-squared: 0.8025918031520605\n",
      "Testing MSE: 37.75854546183867\n",
      "Testing R-squared: 0.7167858892114612\n",
      "        Actual  Predicted\n",
      "44   40.031661  34.893598\n",
      "47   70.055187  61.030246\n",
      "4    50.592752  47.720170\n",
      "55   63.448717  59.733104\n",
      "26   32.305311  38.269661\n",
      "64   57.007944  58.509020\n",
      "73   59.417743  66.261622\n",
      "10   37.612506  45.356983\n",
      "40   52.511257  57.745640\n",
      "107  46.357054  51.933247\n",
      "18   44.987345  40.774116\n",
      "62   33.582188  38.729988\n",
      "11   45.685517  45.333151\n",
      "36   61.417509  52.286654\n",
      "89   74.396332  55.424356\n",
      "91   65.364278  60.118249\n",
      "109  52.653530  49.366386\n",
      "0    58.922301  55.253730\n",
      "88   47.277636  44.673145\n",
      "104  46.027484  48.471268\n",
      "65   67.132403  64.113461\n",
      "45   44.865463  42.713817\n",
      "31   70.255023  69.226471\n",
      "70   51.381381  53.858908\n"
     ]
    }
   ],
   "source": [
    "    # Train the model\n",
    "model = train_linear_regression(X_train, y_train)\n",
    "\n",
    "# Evaluate on training data\n",
    "evaluate_model_on_train(model, X_train, y_train)\n",
    "\n",
    "# Evaluate on testing data\n",
    "evaluate_model_on_test(model, X_test, y_test)\n",
    "\n",
    "# Predict on test data\n",
    "y_pred = predict(model, X_test)"
   ]
  }
 ],
 "metadata": {
  "kernelspec": {
   "display_name": "Python 3",
   "language": "python",
   "name": "python3"
  },
  "language_info": {
   "codemirror_mode": {
    "name": "ipython",
    "version": 3
   },
   "file_extension": ".py",
   "mimetype": "text/x-python",
   "name": "python",
   "nbconvert_exporter": "python",
   "pygments_lexer": "ipython3",
   "version": "3.10.13"
  }
 },
 "nbformat": 4,
 "nbformat_minor": 2
}
